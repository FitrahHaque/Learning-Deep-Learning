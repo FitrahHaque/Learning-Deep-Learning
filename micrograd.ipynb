{
  "cells": [
    {
      "cell_type": "code",
      "execution_count": null,
      "metadata": {
        "id": "5fD6OW5M0ENj"
      },
      "outputs": [],
      "source": [
        "import math\n",
        "import numpy as np\n",
        "import matplotlib.pyplot as plt"
      ]
    },
    {
      "cell_type": "code",
      "execution_count": null,
      "metadata": {
        "id": "wKnytnc80ENl"
      },
      "outputs": [],
      "source": [
        "def f(x):\n",
        "    return 3*x**2 - 4*x + 5"
      ]
    },
    {
      "cell_type": "code",
      "execution_count": null,
      "metadata": {
        "id": "sfcTgZnm0ENl",
        "outputId": "d09e25c8-9d24-4bb0-bb38-285764c799fb"
      },
      "outputs": [
        {
          "data": {
            "text/plain": [
              "20.0"
            ]
          },
          "execution_count": 8,
          "metadata": {},
          "output_type": "execute_result"
        }
      ],
      "source": [
        "f(3.0)"
      ]
    },
    {
      "cell_type": "code",
      "execution_count": null,
      "metadata": {
        "id": "cs2QUAEh0ENm"
      },
      "outputs": [],
      "source": [
        "class Value:\n",
        "    def __init__(self,data):\n",
        "        self.data = data\n",
        "    def __repr__(self):\n",
        "        return f\"Value(data={self.data})\"\n",
        "    def __add__(self,other):\n",
        "        out = Value(self.data + other.data)\n",
        "        return out\n",
        "    def __mul__(self,other):\n",
        "        out = Value(self.data*other.data)\n",
        "        return out"
      ]
    },
    {
      "cell_type": "code",
      "execution_count": null,
      "metadata": {
        "id": "4_wM3E0Q0ENm",
        "outputId": "2cbeca2d-a29d-4c98-fbdb-e993b33f94c2"
      },
      "outputs": [
        {
          "data": {
            "text/plain": [
              "Value(data=-6.0)"
            ]
          },
          "execution_count": 11,
          "metadata": {},
          "output_type": "execute_result"
        }
      ],
      "source": [
        "a = Value(2.0)\n",
        "b = Value(-3.0)\n",
        "c = Value(10.0)\n",
        "a*b"
      ]
    },
    {
      "cell_type": "code",
      "execution_count": 1,
      "metadata": {
        "colab": {
          "base_uri": "https://localhost:8080/"
        },
        "id": "t6FsAFTq0ENm",
        "outputId": "a1252548-12f0-43a3-a65d-64a4490b4c50"
      },
      "outputs": [
        {
          "output_type": "stream",
          "name": "stdout",
          "text": [
            "Requirement already satisfied: graphviz in /usr/local/lib/python3.11/dist-packages (0.20.3)\n"
          ]
        }
      ],
      "source": [
        "%pip install graphviz\n",
        "from graphviz import Digraph\n",
        "\n",
        "def trace(root):\n",
        "    nodes, edges = set(), set()\n",
        "    def build(v):\n",
        "        if v not in nodes:\n",
        "            nodes.add(v)\n",
        "            for child in v._prev:\n",
        "                edges.add((child,v))\n",
        "                build(child)\n",
        "    build(root)\n",
        "    return nodes, edges\n",
        "\n",
        "def draw_dot(root):\n",
        "    dot = Digraph(format='svg', graph_attr={'rankdir':'LR'})\n",
        "    nodes, edges = trace(root)\n",
        "    for n in nodes:\n",
        "        uid = str(id(n))\n",
        "        dot.node(name=uid,label=\"{data % .4f}\" % (n.data, ), shape='record')\n",
        "        if n._op:\n",
        "            dot.node(name=uid+n._op, label=n._op)\n",
        "            dot.edge(uid+n._op, uid)\n",
        "    for n1,n2 in edges:\n",
        "        dot.edge(str(id(n1)), str(id(n2)) + n2._op)\n",
        "    return dot"
      ]
    },
    {
      "cell_type": "code",
      "source": [],
      "metadata": {
        "id": "3hIJgrbX0OUx"
      },
      "execution_count": null,
      "outputs": []
    }
  ],
  "metadata": {
    "kernelspec": {
      "display_name": "Python 3",
      "language": "python",
      "name": "python3"
    },
    "language_info": {
      "codemirror_mode": {
        "name": "ipython",
        "version": 3
      },
      "file_extension": ".py",
      "mimetype": "text/x-python",
      "name": "python",
      "nbconvert_exporter": "python",
      "pygments_lexer": "ipython3",
      "version": "3.9.6"
    },
    "colab": {
      "provenance": []
    }
  },
  "nbformat": 4,
  "nbformat_minor": 0
}